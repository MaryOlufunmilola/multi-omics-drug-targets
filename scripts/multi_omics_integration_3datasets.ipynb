# Import necessary libraries
import pandas as pd
import matplotlib.pyplot as plt
import seaborn as sns

# Load and explore the data
rna_seq_data = pd.read_csv('data/processed/processed_rna_seq.csv', index_col=0)
proteomics_data = pd.read_csv('data/processed/processed_proteomics.csv', index_col=0)
metabolomics_data = pd.read_csv('data/processed/processed_metabolomics.csv', index_col=0)
labels = pd.read_csv('data/processed/disease_labels.csv', index_col=0)

# Display the first few rows
print("RNA-Seq Data:")
display(rna_seq_data.head())

print("Proteomics Data:")
display(proteomics_data.head())

print("Metabolomics Data:")
display(metabolomics_data.head())

# Visualize the distribution of labels
sns.countplot(x=labels.columns[0])
plt.title("Distribution of Disease Labels")
plt.show()

# Integrate omics data (using model/integration scripts)
# Example: Visualize the integrated data after processing
